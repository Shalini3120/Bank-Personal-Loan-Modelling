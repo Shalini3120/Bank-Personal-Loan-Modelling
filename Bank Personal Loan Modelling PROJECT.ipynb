{
 "cells": [
  {
   "cell_type": "markdown",
   "id": "694a78d6",
   "metadata": {},
   "source": [
    "### Bank Personal Loan Modelling:- Identifying the Potential Customers for Loans."
   ]
  },
  {
   "cell_type": "markdown",
   "id": "7238e1d0",
   "metadata": {},
   "source": [
    "### Objective:\n",
    "    The department wants to build a model that will help them identify the potential customers who have\n",
    "    a higher probability of purchasing the loan. This will increase the success ratio while at the same time\n",
    "    reduce the cost of the campaign.\n"
   ]
  },
  {
   "cell_type": "markdown",
   "id": "80c686a7",
   "metadata": {},
   "source": [
    "### 1. Import the required libraries and read the dataset."
   ]
  },
  {
   "cell_type": "code",
   "execution_count": 1,
   "id": "a5f796eb",
   "metadata": {},
   "outputs": [],
   "source": [
    "import numpy as np \n",
    "import pandas as pd \n",
    "import matplotlib.pyplot as plt\n",
    "import seaborn as sns\n",
    "import sklearn\n",
    "from sklearn.model_selection import train_test_split\n",
    "from sklearn.preprocessing import StandardScaler\n",
    "from sklearn.linear_model import LogisticRegression\n",
    "from sklearn.metrics import accuracy_score,confusion_matrix,classification_report\n",
    "from sklearn.preprocessing import LabelEncoder\n",
    "import warnings\n",
    "warnings.filterwarnings('ignore')"
   ]
  },
  {
   "cell_type": "code",
   "execution_count": 2,
   "id": "d912ac5c",
   "metadata": {},
   "outputs": [],
   "source": [
    "df = pd.read_csv(\"Bank_Personal_Loan_Modelling.csv\")"
   ]
  },
  {
   "cell_type": "code",
   "execution_count": 3,
   "id": "5767e9b4",
   "metadata": {},
   "outputs": [
    {
     "data": {
      "text/html": [
       "<div>\n",
       "<style scoped>\n",
       "    .dataframe tbody tr th:only-of-type {\n",
       "        vertical-align: middle;\n",
       "    }\n",
       "\n",
       "    .dataframe tbody tr th {\n",
       "        vertical-align: top;\n",
       "    }\n",
       "\n",
       "    .dataframe thead th {\n",
       "        text-align: right;\n",
       "    }\n",
       "</style>\n",
       "<table border=\"1\" class=\"dataframe\">\n",
       "  <thead>\n",
       "    <tr style=\"text-align: right;\">\n",
       "      <th></th>\n",
       "      <th>ID</th>\n",
       "      <th>Age</th>\n",
       "      <th>Experience</th>\n",
       "      <th>Income</th>\n",
       "      <th>ZIP Code</th>\n",
       "      <th>Family</th>\n",
       "      <th>CCAvg</th>\n",
       "      <th>Education</th>\n",
       "      <th>Mortgage</th>\n",
       "      <th>Personal Loan</th>\n",
       "      <th>Securities Account</th>\n",
       "      <th>CD Account</th>\n",
       "      <th>Online</th>\n",
       "      <th>CreditCard</th>\n",
       "    </tr>\n",
       "  </thead>\n",
       "  <tbody>\n",
       "    <tr>\n",
       "      <th>0</th>\n",
       "      <td>1</td>\n",
       "      <td>25</td>\n",
       "      <td>1</td>\n",
       "      <td>49</td>\n",
       "      <td>91107</td>\n",
       "      <td>4</td>\n",
       "      <td>1.6</td>\n",
       "      <td>1</td>\n",
       "      <td>0</td>\n",
       "      <td>0</td>\n",
       "      <td>1</td>\n",
       "      <td>0</td>\n",
       "      <td>0</td>\n",
       "      <td>0</td>\n",
       "    </tr>\n",
       "    <tr>\n",
       "      <th>1</th>\n",
       "      <td>2</td>\n",
       "      <td>45</td>\n",
       "      <td>19</td>\n",
       "      <td>34</td>\n",
       "      <td>90089</td>\n",
       "      <td>3</td>\n",
       "      <td>1.5</td>\n",
       "      <td>1</td>\n",
       "      <td>0</td>\n",
       "      <td>0</td>\n",
       "      <td>1</td>\n",
       "      <td>0</td>\n",
       "      <td>0</td>\n",
       "      <td>0</td>\n",
       "    </tr>\n",
       "    <tr>\n",
       "      <th>2</th>\n",
       "      <td>3</td>\n",
       "      <td>39</td>\n",
       "      <td>15</td>\n",
       "      <td>11</td>\n",
       "      <td>94720</td>\n",
       "      <td>1</td>\n",
       "      <td>1.0</td>\n",
       "      <td>1</td>\n",
       "      <td>0</td>\n",
       "      <td>0</td>\n",
       "      <td>0</td>\n",
       "      <td>0</td>\n",
       "      <td>0</td>\n",
       "      <td>0</td>\n",
       "    </tr>\n",
       "    <tr>\n",
       "      <th>3</th>\n",
       "      <td>4</td>\n",
       "      <td>35</td>\n",
       "      <td>9</td>\n",
       "      <td>100</td>\n",
       "      <td>94112</td>\n",
       "      <td>1</td>\n",
       "      <td>2.7</td>\n",
       "      <td>2</td>\n",
       "      <td>0</td>\n",
       "      <td>0</td>\n",
       "      <td>0</td>\n",
       "      <td>0</td>\n",
       "      <td>0</td>\n",
       "      <td>0</td>\n",
       "    </tr>\n",
       "    <tr>\n",
       "      <th>4</th>\n",
       "      <td>5</td>\n",
       "      <td>35</td>\n",
       "      <td>8</td>\n",
       "      <td>45</td>\n",
       "      <td>91330</td>\n",
       "      <td>4</td>\n",
       "      <td>1.0</td>\n",
       "      <td>2</td>\n",
       "      <td>0</td>\n",
       "      <td>0</td>\n",
       "      <td>0</td>\n",
       "      <td>0</td>\n",
       "      <td>0</td>\n",
       "      <td>1</td>\n",
       "    </tr>\n",
       "  </tbody>\n",
       "</table>\n",
       "</div>"
      ],
      "text/plain": [
       "   ID  Age  Experience  Income  ZIP Code  Family  CCAvg  Education  Mortgage  \\\n",
       "0   1   25           1      49     91107       4    1.6          1         0   \n",
       "1   2   45          19      34     90089       3    1.5          1         0   \n",
       "2   3   39          15      11     94720       1    1.0          1         0   \n",
       "3   4   35           9     100     94112       1    2.7          2         0   \n",
       "4   5   35           8      45     91330       4    1.0          2         0   \n",
       "\n",
       "   Personal Loan  Securities Account  CD Account  Online  CreditCard  \n",
       "0              0                   1           0       0           0  \n",
       "1              0                   1           0       0           0  \n",
       "2              0                   0           0       0           0  \n",
       "3              0                   0           0       0           0  \n",
       "4              0                   0           0       0           1  "
      ]
     },
     "execution_count": 3,
     "metadata": {},
     "output_type": "execute_result"
    }
   ],
   "source": [
    "df.head()"
   ]
  },
  {
   "cell_type": "markdown",
   "id": "2c6d4460",
   "metadata": {},
   "source": [
    "### 2. Check the first few samples, shape, info of the data and try to familiarize yourself with different features"
   ]
  },
  {
   "cell_type": "code",
   "execution_count": 4,
   "id": "6be396bb",
   "metadata": {},
   "outputs": [
    {
     "data": {
      "text/html": [
       "<div>\n",
       "<style scoped>\n",
       "    .dataframe tbody tr th:only-of-type {\n",
       "        vertical-align: middle;\n",
       "    }\n",
       "\n",
       "    .dataframe tbody tr th {\n",
       "        vertical-align: top;\n",
       "    }\n",
       "\n",
       "    .dataframe thead th {\n",
       "        text-align: right;\n",
       "    }\n",
       "</style>\n",
       "<table border=\"1\" class=\"dataframe\">\n",
       "  <thead>\n",
       "    <tr style=\"text-align: right;\">\n",
       "      <th></th>\n",
       "      <th>ID</th>\n",
       "      <th>Age</th>\n",
       "      <th>Experience</th>\n",
       "      <th>Income</th>\n",
       "      <th>ZIP Code</th>\n",
       "      <th>Family</th>\n",
       "      <th>CCAvg</th>\n",
       "      <th>Education</th>\n",
       "      <th>Mortgage</th>\n",
       "      <th>Personal Loan</th>\n",
       "      <th>Securities Account</th>\n",
       "      <th>CD Account</th>\n",
       "      <th>Online</th>\n",
       "      <th>CreditCard</th>\n",
       "    </tr>\n",
       "  </thead>\n",
       "  <tbody>\n",
       "    <tr>\n",
       "      <th>80</th>\n",
       "      <td>81</td>\n",
       "      <td>60</td>\n",
       "      <td>36</td>\n",
       "      <td>41</td>\n",
       "      <td>95134</td>\n",
       "      <td>4</td>\n",
       "      <td>1.3</td>\n",
       "      <td>1</td>\n",
       "      <td>174</td>\n",
       "      <td>0</td>\n",
       "      <td>0</td>\n",
       "      <td>0</td>\n",
       "      <td>1</td>\n",
       "      <td>1</td>\n",
       "    </tr>\n",
       "    <tr>\n",
       "      <th>2199</th>\n",
       "      <td>2200</td>\n",
       "      <td>49</td>\n",
       "      <td>24</td>\n",
       "      <td>51</td>\n",
       "      <td>91016</td>\n",
       "      <td>1</td>\n",
       "      <td>1.3</td>\n",
       "      <td>2</td>\n",
       "      <td>98</td>\n",
       "      <td>0</td>\n",
       "      <td>0</td>\n",
       "      <td>0</td>\n",
       "      <td>0</td>\n",
       "      <td>1</td>\n",
       "    </tr>\n",
       "    <tr>\n",
       "      <th>3010</th>\n",
       "      <td>3011</td>\n",
       "      <td>25</td>\n",
       "      <td>1</td>\n",
       "      <td>72</td>\n",
       "      <td>94301</td>\n",
       "      <td>3</td>\n",
       "      <td>0.8</td>\n",
       "      <td>1</td>\n",
       "      <td>0</td>\n",
       "      <td>0</td>\n",
       "      <td>0</td>\n",
       "      <td>0</td>\n",
       "      <td>1</td>\n",
       "      <td>0</td>\n",
       "    </tr>\n",
       "    <tr>\n",
       "      <th>3046</th>\n",
       "      <td>3047</td>\n",
       "      <td>37</td>\n",
       "      <td>12</td>\n",
       "      <td>63</td>\n",
       "      <td>95630</td>\n",
       "      <td>3</td>\n",
       "      <td>2.3</td>\n",
       "      <td>1</td>\n",
       "      <td>0</td>\n",
       "      <td>0</td>\n",
       "      <td>0</td>\n",
       "      <td>0</td>\n",
       "      <td>1</td>\n",
       "      <td>0</td>\n",
       "    </tr>\n",
       "    <tr>\n",
       "      <th>926</th>\n",
       "      <td>927</td>\n",
       "      <td>33</td>\n",
       "      <td>9</td>\n",
       "      <td>22</td>\n",
       "      <td>93940</td>\n",
       "      <td>4</td>\n",
       "      <td>0.4</td>\n",
       "      <td>2</td>\n",
       "      <td>103</td>\n",
       "      <td>0</td>\n",
       "      <td>0</td>\n",
       "      <td>0</td>\n",
       "      <td>1</td>\n",
       "      <td>0</td>\n",
       "    </tr>\n",
       "  </tbody>\n",
       "</table>\n",
       "</div>"
      ],
      "text/plain": [
       "        ID  Age  Experience  Income  ZIP Code  Family  CCAvg  Education  \\\n",
       "80      81   60          36      41     95134       4    1.3          1   \n",
       "2199  2200   49          24      51     91016       1    1.3          2   \n",
       "3010  3011   25           1      72     94301       3    0.8          1   \n",
       "3046  3047   37          12      63     95630       3    2.3          1   \n",
       "926    927   33           9      22     93940       4    0.4          2   \n",
       "\n",
       "      Mortgage  Personal Loan  Securities Account  CD Account  Online  \\\n",
       "80         174              0                   0           0       1   \n",
       "2199        98              0                   0           0       0   \n",
       "3010         0              0                   0           0       1   \n",
       "3046         0              0                   0           0       1   \n",
       "926        103              0                   0           0       1   \n",
       "\n",
       "      CreditCard  \n",
       "80             1  \n",
       "2199           1  \n",
       "3010           0  \n",
       "3046           0  \n",
       "926            0  "
      ]
     },
     "execution_count": 4,
     "metadata": {},
     "output_type": "execute_result"
    }
   ],
   "source": [
    "df.sample(5)"
   ]
  },
  {
   "cell_type": "code",
   "execution_count": 5,
   "id": "9833fd6b",
   "metadata": {},
   "outputs": [
    {
     "data": {
      "text/plain": [
       "(5000, 14)"
      ]
     },
     "execution_count": 5,
     "metadata": {},
     "output_type": "execute_result"
    }
   ],
   "source": [
    "df.shape"
   ]
  },
  {
   "cell_type": "code",
   "execution_count": 6,
   "id": "1f8f0ac5",
   "metadata": {},
   "outputs": [
    {
     "name": "stdout",
     "output_type": "stream",
     "text": [
      "<class 'pandas.core.frame.DataFrame'>\n",
      "RangeIndex: 5000 entries, 0 to 4999\n",
      "Data columns (total 14 columns):\n",
      " #   Column              Non-Null Count  Dtype  \n",
      "---  ------              --------------  -----  \n",
      " 0   ID                  5000 non-null   int64  \n",
      " 1   Age                 5000 non-null   int64  \n",
      " 2   Experience          5000 non-null   int64  \n",
      " 3   Income              5000 non-null   int64  \n",
      " 4   ZIP Code            5000 non-null   int64  \n",
      " 5   Family              5000 non-null   int64  \n",
      " 6   CCAvg               5000 non-null   float64\n",
      " 7   Education           5000 non-null   int64  \n",
      " 8   Mortgage            5000 non-null   int64  \n",
      " 9   Personal Loan       5000 non-null   int64  \n",
      " 10  Securities Account  5000 non-null   int64  \n",
      " 11  CD Account          5000 non-null   int64  \n",
      " 12  Online              5000 non-null   int64  \n",
      " 13  CreditCard          5000 non-null   int64  \n",
      "dtypes: float64(1), int64(13)\n",
      "memory usage: 547.0 KB\n"
     ]
    }
   ],
   "source": [
    "df.info()"
   ]
  },
  {
   "cell_type": "markdown",
   "id": "eee370fe",
   "metadata": {},
   "source": [
    "### 3. Check if there are any duplicate records present in the dataset? If yes, drop them. and Drop the columns which you feel are redundant.\n"
   ]
  },
  {
   "cell_type": "code",
   "execution_count": 7,
   "id": "8be8f748",
   "metadata": {},
   "outputs": [
    {
     "data": {
      "text/plain": [
       "0"
      ]
     },
     "execution_count": 7,
     "metadata": {},
     "output_type": "execute_result"
    }
   ],
   "source": [
    "len(df[df.duplicated()])"
   ]
  },
  {
   "cell_type": "markdown",
   "id": "3666d71a",
   "metadata": {},
   "source": [
    "### 4. Display the Five Point Summary and write your key findings."
   ]
  },
  {
   "cell_type": "code",
   "execution_count": 8,
   "id": "cb5b8cb6",
   "metadata": {
    "scrolled": true
   },
   "outputs": [
    {
     "name": "stdout",
     "output_type": "stream",
     "text": [
      "                ID          Age   Experience       Income      ZIP Code  \\\n",
      "count  5000.000000  5000.000000  5000.000000  5000.000000   5000.000000   \n",
      "mean   2500.500000    45.338400    20.104600    73.774200  93152.503000   \n",
      "std    1443.520003    11.463166    11.467954    46.033729   2121.852197   \n",
      "min       1.000000    23.000000    -3.000000     8.000000   9307.000000   \n",
      "25%    1250.750000    35.000000    10.000000    39.000000  91911.000000   \n",
      "50%    2500.500000    45.000000    20.000000    64.000000  93437.000000   \n",
      "75%    3750.250000    55.000000    30.000000    98.000000  94608.000000   \n",
      "max    5000.000000    67.000000    43.000000   224.000000  96651.000000   \n",
      "\n",
      "            Family        CCAvg    Education     Mortgage  Personal Loan  \\\n",
      "count  5000.000000  5000.000000  5000.000000  5000.000000    5000.000000   \n",
      "mean      2.396400     1.937938     1.881000    56.498800       0.096000   \n",
      "std       1.147663     1.747659     0.839869   101.713802       0.294621   \n",
      "min       1.000000     0.000000     1.000000     0.000000       0.000000   \n",
      "25%       1.000000     0.700000     1.000000     0.000000       0.000000   \n",
      "50%       2.000000     1.500000     2.000000     0.000000       0.000000   \n",
      "75%       3.000000     2.500000     3.000000   101.000000       0.000000   \n",
      "max       4.000000    10.000000     3.000000   635.000000       1.000000   \n",
      "\n",
      "       Securities Account  CD Account       Online   CreditCard  \n",
      "count         5000.000000  5000.00000  5000.000000  5000.000000  \n",
      "mean             0.104400     0.06040     0.596800     0.294000  \n",
      "std              0.305809     0.23825     0.490589     0.455637  \n",
      "min              0.000000     0.00000     0.000000     0.000000  \n",
      "25%              0.000000     0.00000     0.000000     0.000000  \n",
      "50%              0.000000     0.00000     1.000000     0.000000  \n",
      "75%              0.000000     0.00000     1.000000     1.000000  \n",
      "max              1.000000     1.00000     1.000000     1.000000  \n"
     ]
    }
   ],
   "source": [
    "print(df.describe())"
   ]
  },
  {
   "cell_type": "markdown",
   "id": "eabf1ab3",
   "metadata": {},
   "source": [
    "### Key Finding:\n",
    "- Age : The age distribution of customers ranges from 23 to 67 years. The majority are between 35 and 55 years old, with a median age of 45.\n",
    "- Experience:Customer experience also varies from 0 to 43 years. The distribution is similar to the age distribution, indicating that experience is likely calculated relative to age.\n",
    "- Income: ncome levels vary significantly, ranging from 8 to 224. Most customers have incomes between 39 and 98, as indicated by the interquartile range (IQR).\n",
    "- ZIP Code: ZIP codes have a wide range, suggesting customers come from diverse locations. However, there might be an issue with the values, as ZIP codes don't typically have quartile-like distribution patterns.\n",
    "- Mortgage:Most customers have mortgages between 1 and 3. The distribution suggests that many customers don't have a mortgage.\n",
    "- Personal Loan:The personal loan feature has a varied distribution, with the majority not accepting a loan and some accepting loans with high values.\n",
    "- Securities Account, CD Account, Online, and CreditCard:\n",
    "   - These attributes are binary (0 or 1).\n",
    "   - The key findings are about the proportions of customers with these attributes, and their impact on personal loan acceptance can be further analyzed.\n",
    "- Education:Education levels vary from 1 (presumably indicating lower education) to 3 (presumably indicating higher education). Most customers have education levels at 2, suggesting some college education.\n",
    "- CCAvg (Average Credit Card Spending):The average credit card spending varies among customers, with most falling between 0.7 and 2.5. Some customers have higher average spending, up to a maximum of 10.0.\n",
    "- Family:The majority of customers have family sizes ranging from 1 to 3. The median family size is 2, with some outliers having larger families."
   ]
  },
  {
   "cell_type": "markdown",
   "id": "ca917570",
   "metadata": {},
   "source": [
    "### 5. There are negative values in the variable 'Experience'. Convert them to non-negative values. (Hint:.abs function)"
   ]
  },
  {
   "cell_type": "code",
   "execution_count": 9,
   "id": "e59ae26b",
   "metadata": {},
   "outputs": [],
   "source": [
    "df['Experience'] = df['Experience'].abs()"
   ]
  },
  {
   "cell_type": "markdown",
   "id": "9935b05d",
   "metadata": {},
   "source": [
    "### 6. Get the target column distribution and comment on the class distribution."
   ]
  },
  {
   "cell_type": "code",
   "execution_count": 10,
   "id": "02287228",
   "metadata": {},
   "outputs": [],
   "source": [
    "target_distribution = df['Personal Loan'].value_counts()"
   ]
  },
  {
   "cell_type": "code",
   "execution_count": 11,
   "id": "94276301",
   "metadata": {},
   "outputs": [
    {
     "data": {
      "text/plain": [
       "0    4520\n",
       "1     480\n",
       "Name: Personal Loan, dtype: int64"
      ]
     },
     "execution_count": 11,
     "metadata": {},
     "output_type": "execute_result"
    }
   ],
   "source": [
    "target_distribution"
   ]
  },
  {
   "cell_type": "code",
   "execution_count": 12,
   "id": "be14acd1",
   "metadata": {},
   "outputs": [
    {
     "data": {
      "image/png": "[encoded data removed]",
      "text/plain": [
       "<Figure size 640x480 with 1 Axes>"
      ]
     },
     "metadata": {},
     "output_type": "display_data"
    }
   ],
   "source": [
    "df['Personal Loan'].hist()\n",
    "plt.show()"
   ]
  },
  {
   "cell_type": "markdown",
   "id": "8a88f999",
   "metadata": {},
   "source": [
    "###  Inference:\n",
    "    The target column represents the \"Personal Loan\" uptake, with two classes: 0 (no loan) and 1 (loan accepted). The distribution reveals that 4,520 instances are labeled as 0 (no loan), while 480 instances are labeled as 1 (loan accepted). This indicates a class imbalance, with significantly fewer instances of accepted loans compared to declined ones. Addressing this imbalance might be important for building a balanced and accurate predictive model."
   ]
  },
  {
   "cell_type": "markdown",
   "id": "45645be4",
   "metadata": {},
   "source": [
    "### 7. Store the target column (i.e.Personal Loan) in the y variable and the rest of the columns in the X variable.\n"
   ]
  },
  {
   "cell_type": "code",
   "execution_count": 13,
   "id": "e2979951",
   "metadata": {},
   "outputs": [],
   "source": [
    "X = df.drop(columns=['Personal Loan'])\n",
    "y = df['Personal Loan']"
   ]
  },
  {
   "cell_type": "markdown",
   "id": "647fcd20",
   "metadata": {},
   "source": [
    "### 8. Split the dataset into two parts (i.e. 70% train and 30% test). and standardize the columns using the z-score scaling approach."
   ]
  },
  {
   "cell_type": "code",
   "execution_count": 14,
   "id": "7930762a",
   "metadata": {},
   "outputs": [],
   "source": [
    "X_train, X_test, y_train, y_test = train_test_split(X, y, test_size=0.3, random_state=42)\n",
    "scaler = StandardScaler()\n",
    "X_train_scaled = scaler.fit_transform(X_train)\n",
    "X_test_scaled = scaler.transform(X_test)"
   ]
  },
  {
   "cell_type": "markdown",
   "id": "57be2ea6",
   "metadata": {},
   "source": [
    "### 9. Train and test a Logistic Regression model to predict the likelihood of a liability customer buying personal loans. Display the train and test accuracy scores."
   ]
  },
  {
   "cell_type": "code",
   "execution_count": 15,
   "id": "efb7154a",
   "metadata": {},
   "outputs": [
    {
     "name": "stdout",
     "output_type": "stream",
     "text": [
      "Train Accuracy: 0.95\n",
      "Test Accuracy: 0.95\n"
     ]
    }
   ],
   "source": [
    "model = LogisticRegression()\n",
    "model.fit(X_train_scaled, y_train)\n",
    "train_accuracy = accuracy_score(y_train, model.predict(X_train_scaled))\n",
    "test_accuracy = accuracy_score(y_test, model.predict(X_test_scaled))\n",
    "print(f\"Train Accuracy: {train_accuracy:.2f}\")\n",
    "print(f\"Test Accuracy: {test_accuracy:.2f}\")"
   ]
  },
  {
   "cell_type": "markdown",
   "id": "f1006076",
   "metadata": {},
   "source": [
    "### Infernce :\n",
    "    A Logistic Regression model was trained and tested to predict the likelihood of liability customers purchasing personal loans. The model achieved a high level of accuracy. Both the train and test accuracy scores were 0.95, indicating that the model performs consistently well on both the training and unseen test data. This suggests that the model generalizes effectively and can make accurate predictions on new data."
   ]
  },
  {
   "cell_type": "markdown",
   "id": "8333e606",
   "metadata": {},
   "source": [
    "### 10. Print the confusion matrix and classification report for the model and write your conclusions on the results."
   ]
  },
  {
   "cell_type": "code",
   "execution_count": 16,
   "id": "619db928",
   "metadata": {},
   "outputs": [
    {
     "name": "stdout",
     "output_type": "stream",
     "text": [
      "Confusion Matrix:\n",
      "[[1323   20]\n",
      " [  57  100]]\n",
      "\n",
      "Classification Report:\n",
      "              precision    recall  f1-score   support\n",
      "\n",
      "           0       0.96      0.99      0.97      1343\n",
      "           1       0.83      0.64      0.72       157\n",
      "\n",
      "    accuracy                           0.95      1500\n",
      "   macro avg       0.90      0.81      0.85      1500\n",
      "weighted avg       0.95      0.95      0.95      1500\n",
      "\n"
     ]
    }
   ],
   "source": [
    "conf_matrix = confusion_matrix(y_test, model.predict(X_test_scaled))\n",
    "class_report = classification_report(y_test, model.predict(X_test_scaled))\n",
    "print(\"Confusion Matrix:\")\n",
    "print(conf_matrix)\n",
    "print(\"\\nClassification Report:\")\n",
    "print(class_report)"
   ]
  },
  {
   "cell_type": "markdown",
   "id": "b08f5d92",
   "metadata": {},
   "source": [
    "### Inference:\n",
    "    The confusion matrix reveals that out of 1,500 test instances:\n",
    "\n",
    "- True Negative (TN): 1323 instances were correctly predicted as 'no loan'.\n",
    "- False Positive (FP): 20 instances were incorrectly predicted as 'loan accepted'.\n",
    "- False Negative (FN): 57 instances were incorrectly predicted as 'no loan' when they were 'loan accepted'.\n",
    "- True Positive (TP): 100 instances were correctly predicted as 'loan accepted'."
   ]
  },
  {
   "cell_type": "markdown",
   "id": "0817b50a",
   "metadata": {},
   "source": [
    "### The classification report provides additional metrics:\n",
    "\n",
    "- Precision: The model's ability to correctly classify positive instances is 0.83, indicating that some instances labeled as 'loan accepted' were incorrect.\n",
    "- Recall: The model's ability to correctly identify positive instances is 0.64, meaning some 'loan accepted' instances were missed.\n",
    "- F1-score: The harmonic mean of precision and recall is 0.72 for 'loan accepted', indicating a trade-off between precision and recall.\n",
    "- The overall accuracy is 0.95, suggesting the model performs well on the dataset.\n",
    "- The weighted average F1-score is 0.95, indicating a balanced performance for both classes."
   ]
  }
 ],
 "metadata": {
  "kernelspec": {
   "display_name": "Python 3 (ipykernel)",
   "language": "python",
   "name": "python3"
  },
  "language_info": {
   "codemirror_mode": {
    "name": "ipython",
    "version": 3
   },
   "file_extension": ".py",
   "mimetype": "text/x-python",
   "name": "python",
   "nbconvert_exporter": "python",
   "pygments_lexer": "ipython3",
   "version": "3.9.13"
  }
 },
 "nbformat": 4,
 "nbformat_minor": 5
}
